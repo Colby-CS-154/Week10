{
 "cells": [
  {
   "cell_type": "markdown",
   "metadata": {},
   "source": [
    "# Modules and `import`\n",
    "\n",
    "A single python file is called a module. \n",
    "\n",
    "Whenever we created a Python file, we create a module. The name of the module is the name of the Python file.\n",
    "\n",
    "To import one module into another - we use the `import` keyword\n",
    "\n",
    "`import another_module`\n",
    "\n",
    "Example - `import simple_math`\n",
    "\n",
    "\n",
    "If you want to use a function in that module, you can use the `dot` operator.\n",
    "\n",
    "`another_module.some_function`\n",
    "\n",
    "Example - `simple_math.add(1, 2)`\n",
    "\n",
    "\n",
    "To import a specific function from another module, \n",
    "\n",
    "`from another_module import some_function`\n",
    "\n",
    "Example - `from simple_math import add, sub`\n",
    "\n",
    "\n",
    "To import _everything_ from a module\n",
    "\n",
    "`from another_module import *`\n",
    "\n",
    "Example - `from simple_math import *`"
   ]
  },
  {
   "cell_type": "markdown",
   "metadata": {},
   "source": [
    "## Importing Python's built-in modules\n",
    "\n",
    "`math` and `random` are two very commonly used modules. You can read their documentation to find the functions that Python provides\n",
    "\n",
    "* [Random's documentation](https://docs.python.org/3/library/random.html)\n",
    "* [Math documentation](https://docs.python.org/3/library/math.html#module-math)"
   ]
  },
  {
   "cell_type": "markdown",
   "metadata": {},
   "source": [
    "# `pip`\n",
    "\n",
    "`pip` is a Python tool that helps you install other libraries in Python that is not built-in Python.\n",
    "\n",
    "To install a library, **one** of the following commands should work:\n",
    "\n",
    "* `pip install [library]`\n",
    "* `pip3 install [library]`\n",
    "* `python -m pip install [library]`\n",
    "* `python3 -m pip install [library]`\n",
    "* `python3 -m pip3 install [library]`\n"
   ]
  },
  {
   "cell_type": "markdown",
   "metadata": {},
   "source": [
    "# Opening files\n",
    "\n",
    "The following section shows how to open files. There are three modes of opening a file - read, write, and append.\n",
    "\n"
   ]
  },
  {
   "cell_type": "markdown",
   "metadata": {},
   "source": [
    "### Reading a file.\n",
    "\n",
    "To read a file , we use the following snippet, where we specify the name of the file we want to read, open it in \"r\" (read) mode and then use `readlines` method to read each line. \n",
    "\n",
    "You can also use `read` method to get the entire content of the file as a string. \n",
    "\n",
    "**Note** - To *read* the file, the file must exist and it must be in the same folder as the Python module"
   ]
  },
  {
   "cell_type": "code",
   "execution_count": null,
   "metadata": {},
   "outputs": [
    {
     "name": "stdout",
     "output_type": "stream",
     "text": [
      "['\"One of the other reviewers has mentioned that after watching just 1 Oz episode you\\'ll be hooked. They are right, as this is exactly what happened with me.<br /><br />The first thing that struck me about Oz was its brutality and unflinching scenes of violence, which set in right from the word GO. Trust me, this is not a show for the faint hearted or timid. This show pulls no punches with regards to drugs, sex or violence. Its is hardcore, in the classic use of the word.<br /><br />It is called OZ as that is the nickname given to the Oswald Maximum Security State Penitentary. It focuses mainly on Emerald City, an experimental section of the prison where all the cells have glass fronts and face inwards, so privacy is not high on the agenda. Em City is home to many..Aryans, Muslims, gangstas, Latinos, Christians, Italians, Irish and more....so scuffles, death stares, dodgy dealings and shady agreements are never far away.<br /><br />I would say the main appeal of the show is due to the fact that it goes where other shows wouldn\\'t dare. Forget pretty pictures painted for mainstream audiences, forget charm, forget romance...OZ doesn\\'t mess around. The first episode I ever saw struck me as so nasty it was surreal, I couldn\\'t say I was ready for it, but as I watched more, I developed a taste for Oz, and got accustomed to the high levels of graphic violence. Not just violence, but injustice (crooked guards who\\'ll be sold out for a nickel, inmates who\\'ll kill on order and get away with it, well mannered, middle class inmates being turned into prison bitches due to their lack of street skills or prison experience) Watching Oz, you may become comfortable with what is uncomfortable viewing....thats if you can get in touch with your darker side.\",positive\\n', '\"A wonderful little production. <br /><br />The filming technique is very unassuming- very old-time-BBC fashion and gives a comforting, and sometimes discomforting, sense of realism to the entire piece. <br /><br />The actors are extremely well chosen- Michael Sheen not only \"\"has got all the polari\"\" but he has all the voices down pat too! You can truly see the seamless editing guided by the references to Williams\\' diary entries, not only is it well worth the watching but it is a terrificly written and performed piece. A masterful production about one of the great master\\'s of comedy and his life. <br /><br />The realism really comes home with the little things: the fantasy of the guard which, rather than use the traditional \\'dream\\' techniques remains solid then disappears. It plays on our knowledge and our senses, particularly with the scenes concerning Orton and Halliwell and the sets (particularly of their flat with Halliwell\\'s murals decorating every surface) are terribly well done.\",positive\\n', '\"I thought this was a wonderful way to spend time on a too hot summer weekend, sitting in the air conditioned theater and watching a light-hearted comedy. The plot is simplistic, but the dialogue is witty and the characters are likable (even the well bread suspected serial killer). While some may be disappointed when they realize this is not Match Point 2: Risk Addiction, I thought it was proof that Woody Allen is still fully in control of the style many of us have grown to love.<br /><br />This was the most I\\'d laughed at one of Woody\\'s comedies in years (dare I say a decade?). While I\\'ve never been impressed with Scarlet Johanson, in this she managed to tone down her \"\"sexy\"\" image and jumped right into a average, but spirited young woman.<br /><br />This may not be the crown jewel of his career, but it was wittier than \"\"Devil Wears Prada\"\" and more interesting than \"\"Superman\"\" a great comedy to go see with friends.\",positive\\n', '\"Basically there\\'s a family where a little boy (Jake) thinks there\\'s a zombie in his closet & his parents are fighting all the time.<br /><br />This movie is slower than a soap opera... and suddenly, Jake decides to become Rambo and kill the zombie.<br /><br />OK, first of all when you\\'re going to make a film you must Decide if its a thriller or a drama! As a drama the movie is watchable. Parents are divorcing & arguing like in real life. And then we have Jake with his closet which totally ruins all the film! I expected to see a BOOGEYMAN similar movie, and instead i watched a drama with some meaningless thriller spots.<br /><br />3 out of 10 just for the well playing parents & descent dialogs. As for the shots with Jake: just ignore them.\",negative\\n', '\"Petter Mattei\\'s \"\"Love in the Time of Money\"\" is a visually stunning film to watch. Mr. Mattei offers us a vivid portrait about human relations. This is a movie that seems to be telling us what money, power and success do to people in the different situations we encounter. <br /><br />This being a variation on the Arthur Schnitzler\\'s play about the same theme, the director transfers the action to the present time New York where all these different characters meet and connect. Each one is connected in one way, or another to the next person, but no one seems to know the previous point of contact. Stylishly, the film has a sophisticated luxurious look. We are taken to see how these people live and the world they live in their own habitat.<br /><br />The only thing one gets out of all these souls in the picture is the different stages of loneliness each one inhabits. A big city is not exactly the best place in which human relations find sincere fulfillment, as one discerns is the case with most of the people we encounter.<br /><br />The acting is good under Mr. Mattei\\'s direction. Steve Buscemi, Rosario Dawson, Carol Kane, Michael Imperioli, Adrian Grenier, and the rest of the talented cast, make these characters come alive.<br /><br />We wish Mr. Mattei good luck and await anxiously for his next work.\",positive']\n"
     ]
    }
   ],
   "source": [
    "with open(\"test_reviews.txt\", \"r\") as file:\n",
    "    lines_in_file = file.readlines()\n",
    "\n",
    "print(lines_in_file)"
   ]
  },
  {
   "cell_type": "markdown",
   "metadata": {},
   "source": [
    "### Writing to a file\n",
    "\n",
    "If you want to write to a file we use the following snippet.\n",
    "\n",
    "**Note** - When writing to a file, it is not necessary that the file must exist. Also note that in \"w\" mode, it will _overwrite_ the contents of the file"
   ]
  },
  {
   "cell_type": "code",
   "execution_count": 20,
   "metadata": {},
   "outputs": [],
   "source": [
    "with open(\"second_reviews.txt\", \"w\") as file:\n",
    "    for each_review_line in lines_in_file:\n",
    "        file.write(each_review_line)\n"
   ]
  },
  {
   "cell_type": "markdown",
   "metadata": {},
   "source": [
    "### Appending to a file\n",
    "\n",
    "\n",
    "Appending allows you to write to a file without overwriting its contents. It allows you to add to the file's contents. "
   ]
  },
  {
   "cell_type": "code",
   "execution_count": null,
   "metadata": {},
   "outputs": [],
   "source": [
    "with open(\"second_reviews.txt\", \"a\") as file:\n",
    "    file.write(f\"\\nNew hello world {1 * 2}\")\n",
    "    "
   ]
  }
 ],
 "metadata": {
  "kernelspec": {
   "display_name": "colby",
   "language": "python",
   "name": "python3"
  },
  "language_info": {
   "codemirror_mode": {
    "name": "ipython",
    "version": 3
   },
   "file_extension": ".py",
   "mimetype": "text/x-python",
   "name": "python",
   "nbconvert_exporter": "python",
   "pygments_lexer": "ipython3",
   "version": "3.11.9"
  }
 },
 "nbformat": 4,
 "nbformat_minor": 2
}
