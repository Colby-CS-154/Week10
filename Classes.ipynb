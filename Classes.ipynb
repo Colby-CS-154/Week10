{
 "cells": [
  {
   "cell_type": "markdown",
   "metadata": {},
   "source": [
    "# Classes\n",
    "\n",
    "In this notebook, we look at classes, objects, attributes, and constructors"
   ]
  },
  {
   "cell_type": "markdown",
   "metadata": {},
   "source": [
    "Let's say we want to create a system where we store the name, grade, and colby id of all students in the class. We can create variables for each of the students as follows"
   ]
  },
  {
   "cell_type": "code",
   "execution_count": null,
   "metadata": {},
   "outputs": [],
   "source": [
    "\n",
    "kevin_first_name = \"Kevin\"\n",
    "kevin_last_name = \"Smith\"\n",
    "kevin_colby_id = 12345\n",
    "kevin_grade = \"A\"\n",
    "\n",
    "\n",
    "\n",
    "\n",
    "lex_first_name = \"Lex\"\n",
    "lex_last_name = \"Smith\"\n",
    "lex_colby_id = \"54321\"\n",
    "lex_grade = \"B+\""
   ]
  },
  {
   "cell_type": "markdown",
   "metadata": {},
   "source": [
    "But note that now I have to create 4 variables for each students. So if I want to create this data for all 15 students in the class, then I will have to have 60 variables! What if I also want to save the number of courses they have taken and the grades they obtained (i.e., save the course number as a key and their grades as value in a dictionary). Now that is 75 variables. Now think about saving this information for all students in the CS 15x course. How many variables will that be? Also, what if there are two Kevin's or two Patricks!. \n",
    "\n",
    "You can see that this is getting complex."
   ]
  },
  {
   "cell_type": "code",
   "execution_count": 36,
   "metadata": {},
   "outputs": [
    {
     "data": {
      "text/plain": [
       "'Kevin'"
      ]
     },
     "execution_count": 36,
     "metadata": {},
     "output_type": "execute_result"
    }
   ],
   "source": [
    "first_name = \"Kevin\"\n",
    "last_name = \"Smith\"\n",
    "colby_id = 123456\n",
    "cs154_grade = \"A\"\n",
    "st140_grade = \"A-\"\n",
    "st_134_grade = \"B+\"\n",
    "\n",
    "# We can also think about saving this information in a dictionary but I will have to\n",
    "# type the key and value for each student multiple times!\n",
    "\n",
    "kevin_details = {\n",
    "    \"first_name\": \"Kevin\",\n",
    "    \"last_name\": \"Smith\",\n",
    "    \"grade\": \"A\",\n",
    "    \"colby_id\": 12345\n",
    "}\n",
    "\n",
    "kevin_details[\"first_name\"]\n"
   ]
  },
  {
   "cell_type": "markdown",
   "metadata": {},
   "source": [
    "What if I create a template/form/mold that allows me to specify the \"variables\" I want in something and I only provide values. "
   ]
  },
  {
   "cell_type": "code",
   "execution_count": null,
   "metadata": {},
   "outputs": [
    {
     "data": {
      "text/plain": [
       "'A'"
      ]
     },
     "execution_count": 35,
     "metadata": {},
     "output_type": "execute_result"
    }
   ],
   "source": [
    "class Student:\n",
    "    # Student is a class\n",
    "\n",
    "    # The following are called attributes\n",
    "\n",
    "    first_name: str\n",
    "    last_name: str\n",
    "    grades: list[float]\n",
    "    colby_id: int\n",
    "\n",
    "    # This function called init is called a constructor which helps you assign the values to the attributes\n",
    "    def __init__(self, f_name:str, l_name: str, grade: list[float], colby_id: int):\n",
    "        # The self keyword is used to access the attributes of the class\n",
    "        self.first_name = f_name\n",
    "        self.last_name = l_name\n",
    "        self.grade = grade\n",
    "        self.colby_id = colby_id\n",
    "\n",
    "# Here kevin is an object that we create using the Student class. \n",
    "kevin = Student(\"Kevin\", \"Doe\", [100, 90, 85, 100], 12345)\n",
    "\n",
    "\n",
    "\n",
    "\n"
   ]
  },
  {
   "cell_type": "code",
   "execution_count": 37,
   "metadata": {},
   "outputs": [
    {
     "data": {
      "text/plain": [
       "'Kevin'"
      ]
     },
     "execution_count": 37,
     "metadata": {},
     "output_type": "execute_result"
    }
   ],
   "source": [
    "# This is how you can access the attributes\n",
    "kevin.colby_id\n",
    "kevin.first_name"
   ]
  },
  {
   "cell_type": "code",
   "execution_count": 38,
   "metadata": {},
   "outputs": [],
   "source": [
    "# Creating a list of Student objects\n",
    "list_of_students: list[Student] = [kevin, patrick, muneeb]"
   ]
  },
  {
   "cell_type": "code",
   "execution_count": 29,
   "metadata": {},
   "outputs": [
    {
     "data": {
      "text/plain": [
       "__main__.Student"
      ]
     },
     "execution_count": 29,
     "metadata": {},
     "output_type": "execute_result"
    }
   ],
   "source": [
    "type(list_of_students[0])"
   ]
  },
  {
   "cell_type": "code",
   "execution_count": 40,
   "metadata": {},
   "outputs": [
    {
     "data": {
      "text/plain": [
       "'Kevin'"
      ]
     },
     "execution_count": 40,
     "metadata": {},
     "output_type": "execute_result"
    }
   ],
   "source": [
    "# Getting the firs_name attribute of the first Student object in the list\n",
    "list_of_students[0].first_name"
   ]
  },
  {
   "cell_type": "code",
   "execution_count": 32,
   "metadata": {},
   "outputs": [
    {
     "data": {
      "text/plain": [
       "68.0"
      ]
     },
     "execution_count": 32,
     "metadata": {},
     "output_type": "execute_result"
    }
   ],
   "source": [
    "muneeb = Student(\"Muneeb\", \"Lee\", [45, 55, 65, 75, 100], 54321)\n",
    "muneeb.calculate_grade()\n"
   ]
  },
  {
   "cell_type": "code",
   "execution_count": 14,
   "metadata": {},
   "outputs": [
    {
     "data": {
      "text/plain": [
       "54321"
      ]
     },
     "execution_count": 14,
     "metadata": {},
     "output_type": "execute_result"
    }
   ],
   "source": [
    "muneeb.colby_id"
   ]
  },
  {
   "cell_type": "code",
   "execution_count": null,
   "metadata": {},
   "outputs": [
    {
     "data": {
      "text/plain": [
       "<__main__.Student at 0x113ae3e90>"
      ]
     },
     "execution_count": 19,
     "metadata": {},
     "output_type": "execute_result"
    }
   ],
   "source": [
    "patrick = Student(\"Patrick\", \"Jones\", \"C-\", 10000)\n"
   ]
  },
  {
   "cell_type": "code",
   "execution_count": null,
   "metadata": {},
   "outputs": [],
   "source": [
    "class Dog:\n",
    "\n",
    "    name: str\n",
    "    breed: str\n",
    "    owner: str\n",
    "    age: int\n",
    "    color: str\n",
    "    weight: float\n",
    "    height: float\n",
    "    length: float\n",
    "    tail_length: float\n",
    "    eye_color: str\n",
    "    favorite_toy: str\n",
    "    good_person: bool\n",
    "\n",
    "    def __init__(self,\n",
    "                 name: str,\n",
    "                 breed: str,\n",
    "                     owner: str,\n",
    "                     age: int,\n",
    "                     color: str,\n",
    "                     weight: float,\n",
    "                     height: float,\n",
    "                     length: float,\n",
    "                     tail_length: float,\n",
    "                     eye_color: str,\n",
    "                     favorite_toy: str,\n",
    "                     good_person: bool,\n",
    "                    ):\n",
    "    def sit()\n",
    "        \n",
    "    def bark()\n",
    "        \n",
    "    def eat_my_homework()\n"
   ]
  },
  {
   "cell_type": "code",
   "execution_count": null,
   "metadata": {},
   "outputs": [],
   "source": [
    "class MovieReview:\n",
    "\n",
    "\n",
    "    sentiment: str\n",
    "    length: int\n",
    "    text: str\n",
    "\n",
    "\n",
    "    def preprocess_review(self)\n",
    "        \n",
    "    def get_tf_idf(self)\n",
    "        \n",
    "\n",
    "review = MovieReview(\"\")\n",
    "\n",
    "review.preprocess_review()\n",
    "\n"
   ]
  },
  {
   "cell_type": "code",
   "execution_count": 21,
   "metadata": {},
   "outputs": [],
   "source": [
    "class Car:\n",
    "\n",
    "    brand: str\n",
    "    make: str\n",
    "    color: str\n",
    "    year: int\n",
    "    weight: float\n",
    "    number_of_doors: int\n",
    "    mileage: float\n",
    "\n",
    "    def __init__(self, brand: str, make: str, color: str, year: int, weight: float, number_of_doors: int, mileage: float):\n",
    "        self.brand = brand\n",
    "        self.make = make\n",
    "        self.color = color\n",
    "        self.year = year\n",
    "        self.number_of_doors = number_of_doors\n",
    "        self.weight = weight\n",
    "        self.mileage = mileage"
   ]
  },
  {
   "cell_type": "code",
   "execution_count": null,
   "metadata": {},
   "outputs": [],
   "source": [
    "some_str: str\n",
    "some_int: int"
   ]
  },
  {
   "cell_type": "code",
   "execution_count": 25,
   "metadata": {},
   "outputs": [
    {
     "data": {
      "text/plain": [
       "2"
      ]
     },
     "execution_count": 25,
     "metadata": {},
     "output_type": "execute_result"
    }
   ],
   "source": [
    "my_car: Car = Car(\"Toyota\", \"Corolla\",  \"red\", 2018, 1000, 4, 30)\n",
    "\n",
    "another_car: Car = Car(\"BMW\", \"M5\", \"Gray\", 2019, 500, 2, 2)\n",
    "\n",
    "another_car.mileage\n",
    "\n"
   ]
  },
  {
   "cell_type": "code",
   "execution_count": null,
   "metadata": {},
   "outputs": [],
   "source": [
    "class Student:\n",
    "\n",
    "    first_name: str\n",
    "    last_name: str\n",
    "    grades: list[float]\n",
    "    colby_id: int\n",
    "\n",
    "    def __init__(self, f_name:str, l_name: str, grade: list[float], colby_id: int):\n",
    "        self.first_name = f_name\n",
    "        self.last_name = l_name\n",
    "        self.grade = grade\n",
    "        self.colby_id = colby_id\n",
    "\n",
    "    def calculate_grade(self) -> float:\n",
    "        total_grade = 0\n",
    "        for each_grade in self.grade:\n",
    "            total_grade += each_grade\n",
    "        \n",
    "        final_grade = total_grade / len(self.grade)\n",
    "\n",
    "        if final_grade >= 90:\n",
    "            return \"A\"\n",
    "        elif final_grade < 90 and final_grade >= 80:\n",
    "            return \"B\"\n",
    "\n",
    "\n",
    "\n",
    "\n",
    "kevin = Student(\"Kevin\", \"Doe\", [100, 90, 85, 100], 12345)\n",
    "kevin.calculate_grade()\n",
    "\n",
    "\n"
   ]
  }
 ],
 "metadata": {
  "kernelspec": {
   "display_name": "colby",
   "language": "python",
   "name": "python3"
  },
  "language_info": {
   "codemirror_mode": {
    "name": "ipython",
    "version": 3
   },
   "file_extension": ".py",
   "mimetype": "text/x-python",
   "name": "python",
   "nbconvert_exporter": "python",
   "pygments_lexer": "ipython3",
   "version": "3.11.9"
  }
 },
 "nbformat": 4,
 "nbformat_minor": 2
}
